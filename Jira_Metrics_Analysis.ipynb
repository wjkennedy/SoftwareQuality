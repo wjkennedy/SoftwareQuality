{
  "cells": [
    {
      "cell_type": "markdown",
      "source": [
        "### Jira Implementation\n",
        "Jira can be used to track and measure these metrics in the following ways:\n",
        "\n",
        "- **Defects:** Use Jira issues to track defects. The status of the issue can indicate whether the defect was found pre-release (status: closed) or post-release (status: open).\n",
        "- **Time Tracking:** Use Jira's built-in time tracking features to measure MTTA and MTTR. The \"Created\" timestamp can indicate when a defect was reported, and the \"Resolved\" timestamp can indicate when it was resolved.\n",
        "- **System Failures:** Use Jira issues to track system failures. The \"Created\" timestamp can indicate the time of each failure, and the time between failures can be calculated from these timestamps.\n",
        "- **Reporting:** Use Jira's built-in reporting features to generate reports on these metrics. These reports can be used to monitor performance, identify trends, and make data-driven decisions.\n",
        "\n",
        "### Relationship with CSAT and SLA\n",
        "These metrics can have a significant impact on Customer Satisfaction (CSAT) and Service Level Agreements (SLAs):\n",
        "\n",
        "- **CSAT:** High DER can lead to lower CSAT as more defects are found by customers post-release. Faster MTTA and MTTR can lead to higher CSAT as customers see that their reports are being addressed quickly. Higher MTBF (i.e., fewer failures) can also lead to higher CSAT.\n",
        "- **SLA:** High DER can lead to SLA breaches if the time to fix post-release defects exceeds the agreed SLA. Faster MTTA and MTTR can help meet SLAs for acknowledging and resolving reported defects. Higher MTBF can help meet SLAs for system uptime."
      ],
      "metadata": {
        "noteable": {
          "cell_type": "markdown"
        }
      },
      "id": "7fcbe2d3-ecfd-4c99-85e9-332c73423471"
    },
    {
      "cell_type": "code",
      "source": [
        "!pip install jira"
      ],
      "outputs": [],
      "execution_count": null,
      "metadata": {
        "noteable": {
          "cell_type": "code"
        }
      },
      "id": "2a9f2fca-de3c-40d1-9593-49a9030d9cdf"
    },
    {
      "cell_type": "code",
      "source": [
        "from jira import JIRA\n",
        "import pandas as pd"
      ],
      "outputs": [],
      "execution_count": null,
      "metadata": {
        "noteable": {
          "cell_type": "code"
        }
      },
      "id": "54642de8-c88e-4c6f-8945-418a26501cd4"
    },
    {
      "cell_type": "code",
      "source": [
        "options = {\n",
        "    'server': 'https://your-jira-server.com',\n",
        "}\n",
        "\n",
        "oauth_creds = {\n",
        "    'access_token': 'YOUR_ACCESS_TOKEN',\n",
        "    'access_token_secret': 'YOUR_ACCESS_TOKEN_SECRET',\n",
        "    'consumer_key': 'YOUR_CONSUMER_KEY',\n",
        "    'key_cert': 'YOUR_RSA_PRIVATE_KEY',\n",
        "}\n",
        "\n",
        "jira = JIRA(options=options, oauth=oauth_creds)"
      ],
      "outputs": [],
      "execution_count": null,
      "metadata": {
        "noteable": {
          "cell_type": "code"
        }
      },
      "id": "cfcf863f-fa16-4032-b21d-fd619727e4f4"
    },
    {
      "cell_type": "code",
      "source": [
        "# Query Jira for defects (e.g., issues with issue type 'Bug')\n",
        "defects_query = 'issuetype = Bug AND project = YOUR_PROJECT'\n",
        "defects = jira.search_issues(defects_query)\n",
        "\n",
        "# Extract relevant information from defects\n",
        "defects_data = []\n",
        "for defect in defects:\n",
        "    issue_key = defect.key\n",
        "    created_time = defect.fields.created\n",
        "    resolved_time = defect.fields.resolutiondate\n",
        "    # Assuming 'GitHub Commits' is a custom field storing commit messages from Smart Commits\n",
        "    commits = defect.fields.customfield_GitHubCommits\n",
        "    defects_data.append((issue_key, created_time, resolved_time, commits))\n",
        "\n",
        "# Create a Pandas dataframe\n",
        "defects_df = pd.DataFrame(defects_data, columns=['Issue Key', 'Created Time', 'Resolved Time', 'Commits'])\n",
        "defects_df.head()"
      ],
      "outputs": [],
      "execution_count": null,
      "metadata": {
        "noteable": {
          "cell_type": "code"
        }
      },
      "id": "b37939d1-d41d-437a-ac5b-4d4f9e7af247"
    },
    {
      "cell_type": "markdown",
      "source": [
        "**Please note that this code is intended to be run in your local environment where you have access to both Jira and GitHub. You'll need to provide the GitHub token and repository name as inputs, and you may need to make adjustments based on your specific use case and data structure.**\n",
        "\n"
      ],
      "metadata": {
        "noteable": {
          "cell_type": "markdown"
        }
      },
      "id": "39210df8-ca18-43b1-9759-a15c754dab17"
    },
    {
      "cell_type": "code",
      "source": [
        "# Install PyGithub library (Run this in your local environment)\n",
        "!pip -q install PyGithub\n",
        "\n",
        "from github import Github\n",
        "import re\n",
        "import pandas as pd\n",
        "import matplotlib.pyplot as plt\n",
        "\n",
        "# Function to extract Jira issue keys from commit messages\n",
        "def extract_issue_keys(message):\n",
        "    return re.findall(r'[A-Z]+-\\d+', message)\n",
        "\n",
        "# Inputs for GitHub token and repository name\n",
        "github_token = input(\"Enter your GitHub token: \")\n",
        "repo_name = input(\"Enter the repository name (e.g., 'user/repo'): \")\n",
        "\n",
        "# Authenticate with GitHub\n",
        "g = Github(github_token)\n",
        "\n",
        "# Get the repository\n",
        "repo = g.get_repo(repo_name)\n",
        "\n",
        "# Get commits and extract relevant information\n",
        "commits_data = []\n",
        "for commit in repo.get_commits():\n",
        "    commit_message = commit.commit.message\n",
        "    commit_time = commit.commit.author.date\n",
        "    issue_keys = extract_issue_keys(commit_message)\n",
        "    commits_data.append((commit_message, commit_time, issue_keys))\n",
        "\n",
        "# Create a Pandas dataframe for commits\n",
        "commits_df = pd.DataFrame(commits_data, columns=['Commit Message', 'Commit Time', 'Issue Keys'])\n",
        "\n",
        "# Function to flatten issue keys and merge with defects\n",
        "def map_commits_to_defects(defects_df, commits_df):\n",
        "    mapping_data = []\n",
        "    for index, row in commits_df.iterrows():\n",
        "        for issue_key in row['Issue Keys']:\n",
        "            mapping_data.append((row['Commit Message'], row['Commit Time'], issue_key))\n",
        "    mapping_df = pd.DataFrame(mapping_data, columns=['Commit Message', 'Commit Time', 'Issue Key'])\n",
        "    merged_df = pd.merge(defects_df, mapping_df, on='Issue Key', how='left')\n",
        "    return merged_df\n",
        "\n",
        "# Map commits to defects\n",
        "mapped_data = map_commits_to_defects(defects_df, commits_df)\n",
        "\n",
        "# Function to plot the timeline\n",
        "def plot_timeline(mapped_data):\n",
        "    plt.figure(figsize=(12, 6))\n",
        "    for index, row in mapped_data.iterrows():\n",
        "        plt.plot([row['Created Time'], row['Commit Time'], row['Resolved Time']], [index, index, index], marker='o')\n",
        "        plt.text(row['Commit Time'], index, row['Commit Message'], fontsize=8)\n",
        "    plt.xlabel('Time')\n",
        "    plt.ylabel('Defects and Commits')\n",
        "    plt.title('Timeline of Jira Defects and GitHub Commits')\n",
        "    plt.show()\n",
        "\n",
        "# Plot the timeline\n",
        "plot_timeline(mapped_data)"
      ],
      "outputs": [],
      "execution_count": null,
      "metadata": {
        "noteable": {
          "cell_type": "code"
        }
      },
      "id": "383388cf-512f-44ba-a6ff-c5293a23d9b8"
    }
  ],
  "metadata": {
    "noteable-chatgpt": {
      "create_notebook": {
        "openai_conversation_id": "c21bc23f-b40e-54e6-8820-b73923e13798",
        "openai_ephemeral_user_id": "d42bf453-2134-5b0b-a978-bf8ae7c499eb",
        "openai_subdivision1_iso_code": "US-IL"
      }
    },
    "kernel_info": {
      "name": "python3"
    },
    "noteable": {
      "last_transaction_id": "73745a25-61f1-491c-b430-5bd72b9488c6",
      "last_delta_id": "b86bee3b-e644-4386-91ff-b6781dce828f"
    },
    "kernelspec": {
      "display_name": "Python 3.9",
      "language": "python",
      "name": "python3"
    },
    "selected_hardware_size": "small",
    "nteract": {
      "version": "noteable@2.9.0"
    }
  },
  "nbformat": 4,
  "nbformat_minor": 5
}